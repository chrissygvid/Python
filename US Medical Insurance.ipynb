{
 "cells": [
  {
   "cell_type": "markdown",
   "id": "1c38ea81",
   "metadata": {},
   "source": [
    "# U.S. Medical Insurance Data"
   ]
  },
  {
   "cell_type": "markdown",
   "id": "520a84cb",
   "metadata": {},
   "source": [
    "This analysis uses a data set of medical insurance costs provided by codecademy.com as part of their python learning courses. the dataset **insurance.csv** contains information on age, sex, bmi, number children, smoker, region, and charges. This is a univariate analysis utilizing pandas dataframe commands.\n"
   ]
  },
  {
   "cell_type": "markdown",
   "id": "cb49ba67",
   "metadata": {},
   "source": [
    "## Prep Work"
   ]
  },
  {
   "cell_type": "markdown",
   "id": "02de3b82",
   "metadata": {},
   "source": [
    "First, I will import any libraries I need to complete my analysis. For this analysis, I know will need the **pandas** library."
   ]
  },
  {
   "cell_type": "code",
   "execution_count": 1,
   "id": "1d9f37e8",
   "metadata": {},
   "outputs": [],
   "source": [
    "#import pandas\n",
    "import pandas as pd"
   ]
  },
  {
   "cell_type": "markdown",
   "id": "3e772e62",
   "metadata": {},
   "source": [
    "Next, I will put the csv into a dataframe using pandas for analysis and output the dataframe"
   ]
  },
  {
   "cell_type": "code",
   "execution_count": 2,
   "id": "0093e6e1",
   "metadata": {},
   "outputs": [
    {
     "name": "stdout",
     "output_type": "stream",
     "text": [
      "      age     sex     bmi  children smoker     region      charges\n",
      "0      19  female  27.900         0    yes  southwest  16884.92400\n",
      "1      18    male  33.770         1     no  southeast   1725.55230\n",
      "2      28    male  33.000         3     no  southeast   4449.46200\n",
      "3      33    male  22.705         0     no  northwest  21984.47061\n",
      "4      32    male  28.880         0     no  northwest   3866.85520\n",
      "...   ...     ...     ...       ...    ...        ...          ...\n",
      "1333   50    male  30.970         3     no  northwest  10600.54830\n",
      "1334   18  female  31.920         0     no  northeast   2205.98080\n",
      "1335   18  female  36.850         0     no  southeast   1629.83350\n",
      "1336   21  female  25.800         0     no  southwest   2007.94500\n",
      "1337   61  female  29.070         0    yes  northwest  29141.36030\n",
      "\n",
      "[1338 rows x 7 columns]\n"
     ]
    }
   ],
   "source": [
    "#import csv to dataframe\n",
    "df = pd.read_csv(\"insurance.csv\") \n",
    "\n",
    "#output dataframe\n",
    "print(df)"
   ]
  },
  {
   "cell_type": "markdown",
   "id": "33a9aa79",
   "metadata": {},
   "source": [
    "I want to investigate if there is any missing (blank) information in my dataframe by utlilizng the count function.<br>\n",
    "- There is no missing information in this dataset."
   ]
  },
  {
   "cell_type": "code",
   "execution_count": 3,
   "id": "dca6cb5d",
   "metadata": {},
   "outputs": [
    {
     "data": {
      "text/plain": [
       "age         1338\n",
       "sex         1338\n",
       "bmi         1338\n",
       "children    1338\n",
       "smoker      1338\n",
       "region      1338\n",
       "charges     1338\n",
       "dtype: int64"
      ]
     },
     "execution_count": 3,
     "metadata": {},
     "output_type": "execute_result"
    }
   ],
   "source": [
    "#check for any blank cells.\n",
    "df.count()"
   ]
  },
  {
   "cell_type": "markdown",
   "id": "627ace27",
   "metadata": {},
   "source": [
    "## Univariate analysis"
   ]
  },
  {
   "cell_type": "markdown",
   "id": "23dafbf8",
   "metadata": {},
   "source": [
    "**Age:**<br>\n",
    "- Identify the basic descriptive statistics for age and then count how many are in different the following age groups: 18-24; 25-34; 35-44; 45-54; 55-64,<br>\n",
    "    - **Findings:** there is a range of ages from 18 - 64 years old. All age range groups are represented generally equal with the most individuals falling in the 45-54 age range category which as +45 from the lowest represented range (55-64). The average age (rounded down) is  39."
   ]
  },
  {
   "cell_type": "code",
   "execution_count": 4,
   "id": "0eaa50f9",
   "metadata": {},
   "outputs": [
    {
     "data": {
      "text/plain": [
       "count    1338.000000\n",
       "mean       39.207025\n",
       "std        14.049960\n",
       "min        18.000000\n",
       "25%        27.000000\n",
       "50%        39.000000\n",
       "75%        51.000000\n",
       "max        64.000000\n",
       "Name: age, dtype: float64"
      ]
     },
     "execution_count": 4,
     "metadata": {},
     "output_type": "execute_result"
    }
   ],
   "source": [
    "#use describe to get descriptive statistic information on age column\n",
    "df[\"age\"].describe()"
   ]
  },
  {
   "cell_type": "code",
   "execution_count": 5,
   "id": "ce67cae2",
   "metadata": {},
   "outputs": [
    {
     "name": "stdout",
     "output_type": "stream",
     "text": [
      "age_range\n",
      "18-24    278\n",
      "25-34    271\n",
      "35-44    260\n",
      "45-54    287\n",
      "55-64    242\n",
      "Name: age, dtype: int64\n"
     ]
    }
   ],
   "source": [
    "#create 'age_range' column and assign value for each individual.\n",
    "df['age_range'] = pd.cut(df['age'], bins=[0, 24, 34, 44, 54, 64], labels=['18-24', '25-34', '35-44', '45-54', '55-64'])\n",
    "\n",
    "# group data by 'age_range' and count the number of individuals per range.\n",
    "age_range_counts = df.groupby('age_range')['age'].count()\n",
    "print(age_range_counts)"
   ]
  },
  {
   "cell_type": "markdown",
   "id": "c6596821",
   "metadata": {},
   "source": [
    "**Sex:**<br>\n",
    "- Identify the number of male vs. the number of female<br>\n",
    "    - **Findings:** there are +14 male individuals in this dataset"
   ]
  },
  {
   "cell_type": "code",
   "execution_count": 6,
   "id": "54b0d8b5",
   "metadata": {},
   "outputs": [
    {
     "data": {
      "text/plain": [
       "male      676\n",
       "female    662\n",
       "Name: sex, dtype: int64"
      ]
     },
     "execution_count": 6,
     "metadata": {},
     "output_type": "execute_result"
    }
   ],
   "source": [
    "#find how many people are listed as male or female\n",
    "df['sex'].value_counts()"
   ]
  },
  {
   "cell_type": "markdown",
   "id": "38ecd43f",
   "metadata": {},
   "source": [
    "**BMI:**<br>\n",
    "- Identify the basic descriptive statistics for bmi<br>\n",
    "    -  **Findings:** the bmi in the dataset ranges from 15.96 - 53.13 with an average of 30.66 <br>\n"
   ]
  },
  {
   "cell_type": "code",
   "execution_count": 7,
   "id": "e8b124d2",
   "metadata": {
    "scrolled": false
   },
   "outputs": [
    {
     "data": {
      "text/plain": [
       "count    1338.000000\n",
       "mean       30.663397\n",
       "std         6.098187\n",
       "min        15.960000\n",
       "25%        26.296250\n",
       "50%        30.400000\n",
       "75%        34.693750\n",
       "max        53.130000\n",
       "Name: bmi, dtype: float64"
      ]
     },
     "execution_count": 7,
     "metadata": {},
     "output_type": "execute_result"
    }
   ],
   "source": [
    "#use describe to get descriptive statistic information on age column\n",
    "df[\"bmi\"].describe()"
   ]
  },
  {
   "cell_type": "markdown",
   "id": "b7f22073",
   "metadata": {},
   "source": [
    "**Children:**<br>\n",
    "- Identify the basic descriptive statistics for number of children & identify how many people have 0, 1, 2, 3, 4, or 5 children<br>\n",
    "    -  **Findings:** the number of children an individual has ranges from 0 - 5 with an average of 1 (rounded down). Most of the individuals in this data set have 0 children<br>\n"
   ]
  },
  {
   "cell_type": "code",
   "execution_count": 8,
   "id": "0c03d8cc",
   "metadata": {
    "scrolled": false
   },
   "outputs": [
    {
     "data": {
      "text/plain": [
       "count    1338.000000\n",
       "mean        1.094918\n",
       "std         1.205493\n",
       "min         0.000000\n",
       "25%         0.000000\n",
       "50%         1.000000\n",
       "75%         2.000000\n",
       "max         5.000000\n",
       "Name: children, dtype: float64"
      ]
     },
     "execution_count": 8,
     "metadata": {},
     "output_type": "execute_result"
    }
   ],
   "source": [
    "#use describe to get descriptive statistic information on children column\n",
    "df[\"children\"].describe()"
   ]
  },
  {
   "cell_type": "code",
   "execution_count": 9,
   "id": "09d71c1f",
   "metadata": {},
   "outputs": [
    {
     "data": {
      "text/plain": [
       "0    574\n",
       "1    324\n",
       "2    240\n",
       "3    157\n",
       "4     25\n",
       "5     18\n",
       "Name: children, dtype: int64"
      ]
     },
     "execution_count": 9,
     "metadata": {},
     "output_type": "execute_result"
    }
   ],
   "source": [
    "#count how many people have 0-5 children\n",
    "df['children'].value_counts()"
   ]
  },
  {
   "cell_type": "markdown",
   "id": "6f7ec704",
   "metadata": {},
   "source": [
    "**Smoker:**<br>\n",
    "- Identify the number of smokers vs. non-smokers<br>\n",
    "    - **Findings:** most individuals in this dataset are listed as non-smokers"
   ]
  },
  {
   "cell_type": "code",
   "execution_count": 10,
   "id": "870b2376",
   "metadata": {},
   "outputs": [
    {
     "data": {
      "text/plain": [
       "no     1064\n",
       "yes     274\n",
       "Name: smoker, dtype: int64"
      ]
     },
     "execution_count": 10,
     "metadata": {},
     "output_type": "execute_result"
    }
   ],
   "source": [
    "#find how many people are listed smoker or non-smoker\n",
    "df['smoker'].value_counts()"
   ]
  },
  {
   "cell_type": "markdown",
   "id": "05d75a1b",
   "metadata": {},
   "source": [
    "**Region:**<br>\n",
    "- Identify unique region names and how many people are representing each region<br>\n",
    "    -  **Findings:** there are 4 different regions all within the United States which are generally equally represented with the exception of \"southeast\" which has +39 from the lowest represented region (northeast). <br>\n"
   ]
  },
  {
   "cell_type": "code",
   "execution_count": 11,
   "id": "f0c6c64d",
   "metadata": {},
   "outputs": [
    {
     "data": {
      "text/plain": [
       "southeast    364\n",
       "southwest    325\n",
       "northwest    325\n",
       "northeast    324\n",
       "Name: region, dtype: int64"
      ]
     },
     "execution_count": 11,
     "metadata": {},
     "output_type": "execute_result"
    }
   ],
   "source": [
    "#find how many people are representing each uniquely named region.\n",
    "df['region'].value_counts()"
   ]
  },
  {
   "cell_type": "markdown",
   "id": "f645456c",
   "metadata": {},
   "source": [
    "**Charges:**<br>\n",
    "- Identify the basic descriptive statistics for charges<br>\n",
    "    -  **Findings:** the charges in the dataset ranges from 1,121.87 - 63,770.43 with an average of 13,270.422 <br>\n"
   ]
  },
  {
   "cell_type": "code",
   "execution_count": 12,
   "id": "a16e32ad",
   "metadata": {
    "scrolled": false
   },
   "outputs": [
    {
     "data": {
      "text/plain": [
       "count     1338.000000\n",
       "mean     13270.422265\n",
       "std      12110.011237\n",
       "min       1121.873900\n",
       "25%       4740.287150\n",
       "50%       9382.033000\n",
       "75%      16639.912515\n",
       "max      63770.428010\n",
       "Name: charges, dtype: float64"
      ]
     },
     "execution_count": 12,
     "metadata": {},
     "output_type": "execute_result"
    }
   ],
   "source": [
    "#use describe to get descriptive statistic information on charges column\n",
    "df[\"charges\"].describe()"
   ]
  }
 ],
 "metadata": {
  "kernelspec": {
   "display_name": "Python 3 (ipykernel)",
   "language": "python",
   "name": "python3"
  },
  "language_info": {
   "codemirror_mode": {
    "name": "ipython",
    "version": 3
   },
   "file_extension": ".py",
   "mimetype": "text/x-python",
   "name": "python",
   "nbconvert_exporter": "python",
   "pygments_lexer": "ipython3",
   "version": "3.10.9"
  }
 },
 "nbformat": 4,
 "nbformat_minor": 5
}
